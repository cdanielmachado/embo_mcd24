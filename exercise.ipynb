{
 "cells": [
  {
   "cell_type": "markdown",
   "id": "cd6521a3-d320-4f79-9161-95e5cf8638e5",
   "metadata": {},
   "source": [
    "# Kefir community simulation using SteadierCom\n",
    "\n",
    "In this tutorial you will learn you use a community simulation tool to analyse\n",
    "metabolic cross-feeding interactions in a microbial community.\n",
    "\n",
    "Our case-study will be the kefir community from [Blasche et al, 2021](https://www.nature.com/articles/s41564-020-00816-5).\n",
    "\n",
    "We will try to find potential cross-feeding interactions between the four most abundant species during milk fermentation:\n",
    "\n",
    "- *Lactobacillus kefiranofaciens*\n",
    "- *Leuconocost mesenteroides*\n",
    "- *Lactococcus lactis*\n",
    "- *Acetobacter fabarum*\n",
    "\n",
    "![fig1bd](images/fig1bd.png)\n",
    "\n",
    "We will use a new simulation tool called [SteadierCom](https://github.com/cdanielmachado/steadiercom) (still under development), that we discussed during the theoretical part of this course. "
   ]
  },
  {
   "cell_type": "markdown",
   "id": "2e94fe24-9356-4163-8bf9-c40e6e1867ac",
   "metadata": {},
   "source": [
    "## 1. Running SteadierCom\n",
    "\n",
    "SteadierCom is a command-line tool. We can use command-line tools in Jupyter (as if we were typing directly on a terminal) by starting our code with `!`.\n",
    "\n",
    "Let's start with testing the help menu:"
   ]
  },
  {
   "cell_type": "code",
   "execution_count": null,
   "id": "c2625c21-8957-4049-9f41-92f2e82784ef",
   "metadata": {},
   "outputs": [],
   "source": [
    "! steadiercom -h"
   ]
  },
  {
   "cell_type": "markdown",
   "id": "efd158b0-4617-491a-abc3-a0e970cacd6e",
   "metadata": {
    "tags": []
   },
   "source": [
    "**SteadierCom** will require several inputs:\n",
    "\n",
    "- Genome-scale metabolic models for each species\n",
    "- Relative abundances of species (optional)\n",
    "- Medium composition\n",
    "- Community growth rate (optional)\n",
    "- \"Unlimited\" compounds (like water, minerals, trace metals) to exclude from cross-feeding analysis (optional)\n",
    "- Sample size (for sampling the solution space)\n",
    "\n",
    "All these data has been prepared in the expected format (you can inspect it in the *data* folder). The growth rate and relative abundances have been grossly estimated from the figure above (assuming 25-fold total biomass increase in 90 hours).\n",
    "\n",
    "We are now ready to run (this can take a few minutes):"
   ]
  },
  {
   "cell_type": "code",
   "execution_count": null,
   "id": "722ff53b-9b36-4161-85d6-7286888407dc",
   "metadata": {
    "tags": []
   },
   "outputs": [],
   "source": [
    "! steadiercom models/*.xml -c data/abundance.tsv -m MILK --mediadb data/milk_composition.tsv --growth 0.05 --unlimited data/unlimited.txt --sample 100"
   ]
  },
  {
   "cell_type": "markdown",
   "id": "7b828fb9-94ed-40ae-b45a-4bd7d7efceb7",
   "metadata": {},
   "source": [
    "(When the simulation is finished you should see a new file called `output.tsv`.)"
   ]
  },
  {
   "cell_type": "markdown",
   "id": "3226081e-0a53-498a-8756-3122de7ec0d8",
   "metadata": {},
   "source": [
    "## 2. Analysing results\n",
    "\n",
    "The output of **SteadierCom** is a table in TSV format that you can inspect with a text editor or open in a spreadsheet software.\n",
    "\n",
    "In this tutorial, we will use the powerful [**pandas**](https://pandas.pydata.org/) library. If you never used **pandas** before, please take a few minutes to get familiar with the [documentation](https://pandas.pydata.org/docs/user_guide/index.html)."
   ]
  },
  {
   "cell_type": "markdown",
   "id": "fe49dcda-8a69-4ddb-9c20-c8110d1dd8fe",
   "metadata": {},
   "source": [
    "Let's start by loading and inspecting the file:"
   ]
  },
  {
   "cell_type": "code",
   "execution_count": null,
   "id": "12b5e4fa-8868-41fe-b682-f424b01f0d51",
   "metadata": {
    "tags": []
   },
   "outputs": [],
   "source": [
    "import pandas as pd\n",
    "\n",
    "df = pd.read_csv('output.tsv', sep='\\t')\n",
    "\n",
    "df.head(20) # show the first 20 lines"
   ]
  },
  {
   "cell_type": "markdown",
   "id": "bd69b6e0-267b-46a5-bdb5-a2b7c3bff14d",
   "metadata": {},
   "source": [
    "We can use the `.query()` and `.sort()` methods to find and sort entries.\n",
    "\n",
    "Let's check who is consuming compounds from the environment, and sort them by consumption rate."
   ]
  },
  {
   "cell_type": "code",
   "execution_count": null,
   "id": "b9141f6a-3ffd-4f25-a734-8e1fcc048a2d",
   "metadata": {},
   "outputs": [],
   "source": [
    "df.query('donor == \"environment\"').sort_values('mass_rate', ascending=False)"
   ]
  },
  {
   "cell_type": "markdown",
   "id": "f9b9ac4e-e8d0-40c3-8d95-2bbd7f254d6d",
   "metadata": {},
   "source": [
    "### 2.1 - Inspecting interactions between species "
   ]
  },
  {
   "cell_type": "markdown",
   "id": "9e563254-2616-49ea-9f91-e0bde796de75",
   "metadata": {},
   "source": [
    "Let's first check for the main interactions highlighted in Fig. 5e the paper. \n",
    "\n",
    "![fig5e1](images/fig5e1.png)\n",
    "\n",
    "*L. kefiranofaciens* \"gives\" amino acids to *L. mesenteroides* (although this is due to extracellular proteolytic activity and not \"direct\" cross-feeding). \n",
    "\n",
    "Can you select all cross-feeding interactions from *L. kefiranofaciens* to *L. mesenteroides* with a frequency of at least 0.1 ? \n",
    "\n",
    "> This time you will try by yourself! 🙂\n"
   ]
  },
  {
   "cell_type": "code",
   "execution_count": null,
   "id": "e9f63aec-553a-4915-8815-2f3fd537e91a",
   "metadata": {},
   "outputs": [],
   "source": [
    "# type your code here..."
   ]
  },
  {
   "cell_type": "markdown",
   "id": "6527f579-0b52-41ca-8701-f18321d43372",
   "metadata": {},
   "source": [
    "Or click below to reveal the solution:"
   ]
  },
  {
   "cell_type": "code",
   "execution_count": null,
   "id": "49416ac2-28aa-4871-a233-16010a8da869",
   "metadata": {
    "jupyter": {
     "source_hidden": true
    },
    "tags": []
   },
   "outputs": [],
   "source": [
    "\n",
    "df.query('donor == \"L_kefiranofaciens\" and receiver == \"L_mesenteroides\" and frequency > 0.1')"
   ]
  },
  {
   "cell_type": "markdown",
   "id": "e8c07bca-100f-4621-a053-fd5acfc7613a",
   "metadata": {},
   "source": [
    "Since these simulations are based on random sampling of the solution space, \n",
    "it is possible that your results are different from the teacher or from your colleagues.\n",
    "\n",
    "But, most likely, your result was an empty table. \n",
    "\n",
    "Now let's inspect what is possibly donated from *L. mesenteroides* to *L. kefiranofaciens*:"
   ]
  },
  {
   "cell_type": "code",
   "execution_count": null,
   "id": "22b343be-e22e-4db3-a4b1-1caed4285091",
   "metadata": {},
   "outputs": [],
   "source": [
    "# type your code here..."
   ]
  },
  {
   "cell_type": "markdown",
   "id": "c1a2eb9b-a1e2-4fb3-ad9a-d5f9750a9de8",
   "metadata": {},
   "source": [
    "Or click below to reveal the solution:"
   ]
  },
  {
   "cell_type": "code",
   "execution_count": null,
   "id": "59265522-937a-4b3c-b368-21c7c89980f7",
   "metadata": {
    "jupyter": {
     "source_hidden": true
    },
    "tags": []
   },
   "outputs": [],
   "source": [
    "\n",
    "df.query('receiver == \"L_kefiranofaciens\" and donor == \"L_mesenteroides\" and frequency > 0.1' )"
   ]
  },
  {
   "cell_type": "markdown",
   "id": "65124be6-a81d-4c21-8b86-7d9bc0313d21",
   "metadata": {},
   "source": [
    "L. mesenteroides is expected to donate lactate to L. kefiranofaciens. In the simulations we observe exchange of acetaldehyde instead (this is likely due to a common issue with the models generated with CarveMe, they often ferment acetaldehyde instead of acetate and lactate).\n",
    "\n",
    "Now let's look at the interactions between *L. lactis* and *A. fabarum*:\n",
    "\n",
    "![fig5e2](images/fig5e2.png)\n",
    "\n",
    "Can you inspect what is donated from *L. lactis* to *A. fabarum* ? "
   ]
  },
  {
   "cell_type": "code",
   "execution_count": null,
   "id": "2e136089-2435-427d-a0c7-11096c2d2f52",
   "metadata": {},
   "outputs": [],
   "source": [
    "# type your code here... "
   ]
  },
  {
   "cell_type": "markdown",
   "id": "b927b05a-0622-4f1c-b3b3-11447d4fddba",
   "metadata": {},
   "source": [
    "Or click below to reveal the solution:"
   ]
  },
  {
   "cell_type": "code",
   "execution_count": null,
   "id": "9f1fc0d1-e9f0-4660-badf-209770063a49",
   "metadata": {
    "jupyter": {
     "source_hidden": true
    },
    "tags": []
   },
   "outputs": [],
   "source": [
    "\n",
    "df.query('donor == \"L_lactis\" and receiver == \"A_fabarum\" and frequency > 0.1')"
   ]
  },
  {
   "cell_type": "markdown",
   "id": "1f8a3408-ee36-40b7-9635-a2067b828a2f",
   "metadata": {},
   "source": [
    "L. lactis is expected to donate lactate, GABA and some amino acids to A. fabarum. In the simulations we observe the exchange of GABA (M_4abut_e). We also observe exchange of glycerol and arginine, although these were not observed experimentally.\n",
    "\n",
    "No exchange was observed experimentally from *A. fabarum* to *L. lactis*, but lets see if some are predicted in the simulations:"
   ]
  },
  {
   "cell_type": "code",
   "execution_count": null,
   "id": "6aa0e5b7-a4a7-46be-bec7-e0ca5bb177bf",
   "metadata": {},
   "outputs": [],
   "source": [
    "# type your code here... "
   ]
  },
  {
   "cell_type": "code",
   "execution_count": null,
   "id": "fb9a2dbd-ef01-490c-b78d-be044c5c49ed",
   "metadata": {},
   "outputs": [],
   "source": [
    "Or click below to reveal the solution:"
   ]
  },
  {
   "cell_type": "code",
   "execution_count": null,
   "id": "fb5b372b",
   "metadata": {
    "jupyter": {
     "source_hidden": true
    }
   },
   "outputs": [],
   "source": [
    "\n",
    "df.query('donor == \"A_fabarum\" and receiver == \"L_lactis\" and frequency > 0.1')"
   ]
  },
  {
   "cell_type": "markdown",
   "id": "e2ffd86b-b6f4-43e3-ae2f-01e705945d7b",
   "metadata": {},
   "source": [
    "## 2.2 Building an interaction network"
   ]
  },
  {
   "cell_type": "markdown",
   "id": "7db8947a-ee0d-4e94-a98c-fbe9bc334bfd",
   "metadata": {},
   "source": [
    "Now we will use the [**pyvis**](https://pyvis.readthedocs.io/en/latest/) library to display a network with all the cross-feeding interactions.\n",
    "\n",
    "Actually, let's start by selecting only:\n",
    "\n",
    "- interactions that have a frequency above 10% and a mass rate below 0.001 g/gDW/h\n",
    "- interactions between species (not from/to the environment)\n"
   ]
  },
  {
   "cell_type": "code",
   "execution_count": null,
   "id": "673c57c4-d083-4c84-bb9c-b02b8dfe8897",
   "metadata": {},
   "outputs": [],
   "source": [
    "# type your code here...\n",
    "\n",
    "# selected = df.query(\"...\")"
   ]
  },
  {
   "cell_type": "markdown",
   "id": "3930f320-6e19-4904-b6f2-ad5058742e2e",
   "metadata": {},
   "source": [
    "Or click below to reveal the solution:"
   ]
  },
  {
   "cell_type": "code",
   "execution_count": null,
   "id": "9c5e1de0-8b55-45b9-9d99-5be739137093",
   "metadata": {
    "jupyter": {
     "source_hidden": true
    }
   },
   "outputs": [],
   "source": [
    "\n",
    "selected = df.query(\"frequency > 0.1 and mass_rate > 0.001 and donor != 'environment' and receiver != 'environment'\")"
   ]
  },
  {
   "cell_type": "markdown",
   "id": "6a1bc08f-522c-4854-931c-148a73cf0b85",
   "metadata": {},
   "source": [
    "Building the network is simple, but a bit too much for this tutorial, so we have *\"cooked it up\"* for you:"
   ]
  },
  {
   "cell_type": "code",
   "execution_count": null,
   "id": "4276a64f-6989-418c-9b5b-7b8a4acda2fe",
   "metadata": {
    "tags": []
   },
   "outputs": [],
   "source": [
    "from pyvis.network import Network\n",
    "\n",
    "net = Network(directed=True, notebook=True, height='500px', width='800px')\n",
    "\n",
    "species = set(selected['donor']) | set(selected['receiver'])\n",
    "net.add_nodes(species)\n",
    "\n",
    "for cpd in set(selected['compound']):\n",
    "    net.add_node(cpd, shape='box')\n",
    "\n",
    "for _, row in selected.iterrows():\n",
    "    net.add_edge(row['donor'], row['compound'], value=row['mass_rate'])\n",
    "    net.add_edge(row['compound'], row['receiver'], value=row['mass_rate'])\n",
    "\n",
    "net.show('network.html')"
   ]
  },
  {
   "cell_type": "markdown",
   "id": "81b291f8-e474-4c57-84b3-a99d1fdd8100",
   "metadata": {},
   "source": [
    "You can try dragging around the nodes in the network for better visualization. \n",
    "\n",
    "> If the compound identifiers are hard to interpret, you can look them up in the [BiGG database](http://bigg.ucsd.edu/)."
   ]
  },
  {
   "cell_type": "markdown",
   "id": "9e204889-317b-4051-bf71-098fe4e8b03c",
   "metadata": {},
   "source": [
    "---------\n",
    "\n",
    "Congratulations, you reached the end of the tutorial. 🥳\n",
    "\n",
    "If you finished early, feel free to ask questions or try to help another colleague... 🙂"
   ]
  },
  {
   "cell_type": "code",
   "execution_count": null,
   "id": "7be2caec-7c90-4893-ab89-660a063ea470",
   "metadata": {},
   "outputs": [],
   "source": []
  }
 ],
 "metadata": {
  "kernelspec": {
   "display_name": "Python 3 (ipykernel)",
   "language": "python",
   "name": "python3"
  },
  "language_info": {
   "codemirror_mode": {
    "name": "ipython",
    "version": 3
   },
   "file_extension": ".py",
   "mimetype": "text/x-python",
   "name": "python",
   "nbconvert_exporter": "python",
   "pygments_lexer": "ipython3",
   "version": "3.12.5"
  }
 },
 "nbformat": 4,
 "nbformat_minor": 5
}
