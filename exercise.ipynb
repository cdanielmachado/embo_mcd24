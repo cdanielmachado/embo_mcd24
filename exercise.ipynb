{
 "cells": [
  {
   "cell_type": "markdown",
   "id": "cd6521a3-d320-4f79-9161-95e5cf8638e5",
   "metadata": {},
   "source": [
    "# Kefir community simulation using SteadierCom\n",
    "\n",
    "In this tutorial you will learn you use a community simulation tool to analyse\n",
    "metabolic cross-feeding interactions in a microbial community.\n",
    "\n",
    "Our case-study will be the kefir community from [Blasche et al, 2021](Blasche2021.pdf).\n",
    "\n",
    "We will try to find potential cross-feeding interactions between the four most abundant species during milk fermentation:\n",
    "\n",
    "- Lactobacillus kefiranofaciens\n",
    "- Leuconocost mesenteroides\n",
    "- Lactococcus lactis\n",
    "- Acetobacter fabarum\n",
    "\n",
    "![fig1bd](images/fig1bd.png)\n",
    "\n",
    "We will use a new simulation tool called [SteadierCom](https://github.com/cdanielmachado/steadiercom) (still under development), that we discussed during the theoretical part of this course. "
   ]
  },
  {
   "cell_type": "markdown",
   "id": "2e94fe24-9356-4163-8bf9-c40e6e1867ac",
   "metadata": {},
   "source": [
    "## 1. Running SteadierCom\n",
    "\n",
    "SteadierCom is a command-line tool. We can use command-line tools in Jupyter (as if we were typing directly on a terminal) by starting our code with `!`.\n",
    "\n",
    "Let's start with testing the help menu:"
   ]
  },
  {
   "cell_type": "code",
   "execution_count": 1,
   "id": "c2625c21-8957-4049-9f41-92f2e82784ef",
   "metadata": {},
   "outputs": [
    {
     "name": "stdout",
     "output_type": "stream",
     "text": [
      "usage: steadiercom [-h] [-c COMMUNITIES.TSV] [-o OUTPUT] [-m MEDIA]\n",
      "                   [--mediadb MEDIADB] [--growth GROWTH] [--sample SAMPLE]\n",
      "                   [--we WE] [--wr WR] [--target TARGET] [--solver SOLVER]\n",
      "                   [--unlimited UNLIMITED]\n",
      "                   MODELS [MODELS ...]\n",
      "\n",
      "Simulate microbial communities with SteadierCom\n",
      "\n",
      "positional arguments:\n",
      "  MODELS                \n",
      "                        Multiple single-species models (one or more files).\n",
      "                        \n",
      "                        You can use wild-cards, for example: models/*.xml, and optionally protect with quotes to avoid automatic bash\n",
      "                        expansion (this will be faster for long lists): \"models/*.xml\". \n",
      "\n",
      "options:\n",
      "  -h, --help            show this help message and exit\n",
      "  -c COMMUNITIES.TSV, --communities COMMUNITIES.TSV\n",
      "                        \n",
      "                        Run SteadierCom for multiple (sub)communities.\n",
      "                        The communities must be specified in a tab-separated file with community and organism identifiers.\n",
      "                        The organism identifiers should match the file names in the SBML files (without extension).\n",
      "                        \n",
      "                        Example:\n",
      "                            community1\torganism1\n",
      "                            community1\torganism2\n",
      "                            community2\torganism1\n",
      "                            community2\torganism3\n",
      "                        \n",
      "                        You can optionally specify the relative abundances for each community member:\n",
      "                        \n",
      "                        Example:\n",
      "                            community1\torganism1\t0.5\n",
      "                            community1\torganism2\t0.5\n",
      "                            community2\torganism1\t0.9\n",
      "                            community2\torganism3\t0.1\n",
      "                        \n",
      "  -o OUTPUT, --output OUTPUT\n",
      "                        Prefix for output file(s)\n",
      "  -m MEDIA, --media MEDIA\n",
      "                        Specify a growth medium\n",
      "  --mediadb MEDIADB     Media database file\n",
      "  --growth GROWTH       Community growth rate (optional)\n",
      "  --sample SAMPLE       Run sampling analysis for each simulation with N samples\n",
      "  --we WE               Weighting factor for enzyme sector (default: 0.002 gDW.h/mmol)\n",
      "  --wr WR               Weighting factor for ribosome sector (default: 0.2 h)\n",
      "  --target TARGET       Target reaction to maximize (optional)\n",
      "  --solver SOLVER       Select LP solver (options: gurobi, cplex, scip)\n",
      "  --unlimited UNLIMITED\n",
      "                        Compounds to be considered in excess supply (excluded from cross-feeding analysis).\n"
     ]
    }
   ],
   "source": [
    "! steadiercom -h"
   ]
  },
  {
   "cell_type": "markdown",
   "id": "efd158b0-4617-491a-abc3-a0e970cacd6e",
   "metadata": {
    "tags": []
   },
   "source": [
    "**SteadierCom** will require several inputs:\n",
    "\n",
    "- Genome-scale metabolic models for each species\n",
    "- Relative abundances of species (optional)\n",
    "- Medium composition\n",
    "- Community growth rate (optional)\n",
    "- \"Unlimited\" compounds (like water, minerals, trace metals) to exclude from cross-feeding analysis (optional)\n",
    "- Sample size (for sampling the solution space)\n",
    "\n",
    "All these data has been prepared in the expected format (you can inspect it in the *data* folder). The growth rate and relative abundances have been grossly estimated from the figure above (assuming 25-fold total biomass increase in 90 hours).\n",
    "\n",
    "We are now ready to run (this can take a few minutes):"
   ]
  },
  {
   "cell_type": "code",
   "execution_count": 2,
   "id": "722ff53b-9b36-4161-85d6-7286888407dc",
   "metadata": {
    "tags": []
   },
   "outputs": [
    {
     "name": "stdout",
     "output_type": "stream",
     "text": [
      "simulating kefir in MILK medium\n"
     ]
    }
   ],
   "source": [
    "! steadiercom models/*.xml -c data/abundance.tsv -m MILK --mediadb data/milk_composition.tsv --growth 0.05 --unlimited data/unlimited.txt --sample 100"
   ]
  },
  {
   "cell_type": "code",
   "execution_count": null,
   "id": "d01a290c-72d7-42c7-b8a2-e598bd1351b8",
   "metadata": {},
   "outputs": [],
   "source": []
  },
  {
   "cell_type": "markdown",
   "id": "3226081e-0a53-498a-8756-3122de7ec0d8",
   "metadata": {},
   "source": [
    "## 2. Analysing results\n",
    "\n",
    "The output of **SteadierCom** is a table "
   ]
  },
  {
   "cell_type": "code",
   "execution_count": null,
   "id": "12b5e4fa-8868-41fe-b682-f424b01f0d51",
   "metadata": {
    "tags": []
   },
   "outputs": [],
   "source": [
    "df = pd.read_csv('output.tsv', sep='\\t')"
   ]
  },
  {
   "cell_type": "code",
   "execution_count": null,
   "id": "49416ac2-28aa-4871-a233-16010a8da869",
   "metadata": {
    "tags": []
   },
   "outputs": [],
   "source": [
    "df.query('donor == \"L_kefiranofaciens\" and receiver == \"L_mesenteroides\" and frequency > 0.1')"
   ]
  },
  {
   "cell_type": "code",
   "execution_count": null,
   "id": "59265522-937a-4b3c-b368-21c7c89980f7",
   "metadata": {
    "tags": []
   },
   "outputs": [],
   "source": [
    "df.query('receiver == \"L_kefiranofaciens\" and donor == \"L_mesenteroides\" and frequency > 0.1' )"
   ]
  },
  {
   "cell_type": "code",
   "execution_count": null,
   "id": "9f1fc0d1-e9f0-4660-badf-209770063a49",
   "metadata": {
    "tags": []
   },
   "outputs": [],
   "source": [
    "df.query('donor == \"L_lactis\" and receiver == \"A_fabarum\" and frequency > 0.1')"
   ]
  },
  {
   "cell_type": "code",
   "execution_count": null,
   "id": "fb5b372b",
   "metadata": {},
   "outputs": [],
   "source": [
    "df.query('donor == \"A_fabarum\" and receiver == \"L_lactis\" and frequency > 0.1')"
   ]
  },
  {
   "cell_type": "code",
   "execution_count": null,
   "id": "580d0a72-8934-4e5c-96e9-f4af2534a113",
   "metadata": {
    "tags": []
   },
   "outputs": [],
   "source": [
    "df.query(\"donor == 'environment'\").groupby(['compound']).agg({'rate': sum}).sort_values('rate', ascending=False)"
   ]
  },
  {
   "cell_type": "code",
   "execution_count": null,
   "id": "4276a64f-6989-418c-9b5b-7b8a4acda2fe",
   "metadata": {
    "tags": []
   },
   "outputs": [],
   "source": [
    "from pyvis.network import Network\n",
    "\n",
    "net = Network(directed=True, notebook=True, height='500px', width='800px')\n",
    "\n",
    "selected = df.query(\"frequency > 0.1 and mass_rate > 0.001 and donor != 'environment' and receiver != 'environment'\")\n",
    "\n",
    "species = set(selected['donor']) | set(selected['receiver'])\n",
    "net.add_nodes(species)\n",
    "\n",
    "for cpd in set(selected['compound']):\n",
    "    net.add_node(cpd, shape='box')\n",
    "\n",
    "for _, row in selected.iterrows():\n",
    "    net.add_edge(row['donor'], row['compound'], value=row['mass_rate'])\n",
    "    net.add_edge(row['compound'], row['receiver'], value=row['mass_rate'])\n",
    "\n",
    "net.show('network.html')"
   ]
  },
  {
   "cell_type": "markdown",
   "id": "48a86100-bf2f-4163-8b4b-26ad5d3dd5e8",
   "metadata": {},
   "source": [
    "### SMETANA"
   ]
  },
  {
   "cell_type": "code",
   "execution_count": null,
   "id": "b5aedd2d-6898-467a-b8fe-d5e436eb8b83",
   "metadata": {
    "tags": []
   },
   "outputs": [],
   "source": [
    "df2 = pd.read_csv('detailed.tsv', sep='\\t')"
   ]
  },
  {
   "cell_type": "code",
   "execution_count": null,
   "id": "9f1243b8-20fb-4a55-9e98-39607f83ed9e",
   "metadata": {
    "tags": []
   },
   "outputs": [],
   "source": [
    "df2.query('donor == \"L_kefiranofaciens\" and receiver == \"L_mesenteroides\" and smetana > 0.1')"
   ]
  },
  {
   "cell_type": "code",
   "execution_count": null,
   "id": "3ef84f23-c7ac-40ea-9cb9-11d01361a4c8",
   "metadata": {
    "tags": []
   },
   "outputs": [],
   "source": [
    "df2.query('receiver == \"L_kefiranofaciens\" and donor == \"L_mesenteroides\" and smetana > 0.1' )"
   ]
  },
  {
   "cell_type": "code",
   "execution_count": null,
   "id": "40ec1439-6ecd-4dc6-bd3c-f9c3a1f51c32",
   "metadata": {
    "tags": []
   },
   "outputs": [],
   "source": [
    "df2.query('donor == \"L_lactis\" and receiver == \"A_fabarum\" and smetana > 0.1')"
   ]
  },
  {
   "cell_type": "code",
   "execution_count": null,
   "id": "067cb0a0-a9a7-4084-a91a-d26f635af9da",
   "metadata": {
    "tags": []
   },
   "outputs": [],
   "source": [
    "from pyvis.network import Network\n",
    "\n",
    "net = Network(directed=True, notebook=True, height='500px', width='800px')\n",
    "\n",
    "selected = df2.query(\"smetana > 0.1\")\n",
    "\n",
    "species = set(selected['donor']) | set(selected['receiver'])\n",
    "net.add_nodes(species)\n",
    "\n",
    "for cpd in set(selected['compound']):\n",
    "    net.add_node(cpd, shape='box')\n",
    "\n",
    "for _, row in selected.iterrows():\n",
    "    net.add_edge(row['donor'], row['compound'], value=row['smetana'])\n",
    "    net.add_edge(row['compound'], row['receiver'], value=row['smetana'])\n",
    "\n",
    "net.show('network2.html')"
   ]
  },
  {
   "cell_type": "code",
   "execution_count": null,
   "id": "3a8e85b9-2c42-4869-be26-890aba55df66",
   "metadata": {},
   "outputs": [],
   "source": []
  }
 ],
 "metadata": {
  "kernelspec": {
   "display_name": "Python 3 (ipykernel)",
   "language": "python",
   "name": "python3"
  },
  "language_info": {
   "codemirror_mode": {
    "name": "ipython",
    "version": 3
   },
   "file_extension": ".py",
   "mimetype": "text/x-python",
   "name": "python",
   "nbconvert_exporter": "python",
   "pygments_lexer": "ipython3",
   "version": "3.12.5"
  }
 },
 "nbformat": 4,
 "nbformat_minor": 5
}
